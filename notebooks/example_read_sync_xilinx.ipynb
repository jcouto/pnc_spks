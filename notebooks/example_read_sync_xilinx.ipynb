{
 "cells": [
  {
   "cell_type": "code",
   "execution_count": 1,
   "metadata": {},
   "outputs": [],
   "source": [
    "from pnc_spks import *\n",
    "%matplotlib inline"
   ]
  },
  {
   "cell_type": "markdown",
   "metadata": {},
   "source": [
    "## Read and unpack the sync channel\n",
    "\n",
    "The sync inputs are the last channel in the binary files (both in AP and LP).\n",
    "\n",
    "### Unpack the sync channel to independent \"digital\" channels"
   ]
  },
  {
   "cell_type": "code",
   "execution_count": 5,
   "metadata": {},
   "outputs": [
    {
     "data": {
      "image/png": "[encoded data removed]",
      "text/plain": [
       "<Figure size 720x216 with 1 Axes>"
      ]
     },
     "metadata": {
      "needs_background": "light"
     },
     "output_type": "display_data"
    }
   ],
   "source": [
    "# load data\n",
    "filename = '/home/joao/data/ephys/raw/GetThatSpike_sync_g1/sorted1/GetThatSpike_sync_g1_t0.imec0.lf.bin'\n",
    "dat,meta = load_spikeglx_binary(filename)\n",
    "srate = meta['imSampRate']\n",
    "# unpack to binary\n",
    "binsync = unpack_npix_sync(dat[:,-1],srate, output_binary=True);\n",
    "nsyncchannels = binsync.shape[1]\n",
    "# plot all sync channels\n",
    "plt.figure(figsize = [10,3])\n",
    "time = np.arange(binsync.shape[0])/srate\n",
    "plt.plot(time[time < 60], binsync[time<60,:]*0.7 + np.arange(nsyncchannels),color = 'k')\n",
    "plt.yticks(np.arange(nsyncchannels)+0.5,['ch {0}'.format(i+1) for i in np.arange(nsyncchannels)]);\n",
    "plt.xlabel('Time (s)');"
   ]
  },
  {
   "cell_type": "markdown",
   "metadata": {},
   "source": [
    "### Extract events\n"
   ]
  },
  {
   "cell_type": "code",
   "execution_count": 7,
   "metadata": {
    "scrolled": false
   },
   "outputs": [
    {
     "data": {
      "image/png": "[encoded data removed]",
      "text/plain": [
       "<Figure size 720x288 with 1 Axes>"
      ]
     },
     "metadata": {
      "needs_background": "light"
     },
     "output_type": "display_data"
    }
   ],
   "source": [
    "# unpack into events (onsets/offsets)\n",
    "onsets,offsets = unpack_npix_sync(dat[:,-1],srate);\n",
    "\n",
    "plt.figure(figsize = [10,4])\n",
    "for ichan,times in onsets.items(): # onsets\n",
    "    plt.vlines(times,ichan,ichan+.4,linewidth = 0.5)\n",
    "    \n",
    "for ichan,times in offsets.items(): # offsets\n",
    "    plt.vlines(times,ichan+.3,ichan+.7,color = 'r',linewidth = 0.5)\n",
    "plt.xlabel('Time (s)');"
   ]
  },
  {
   "cell_type": "markdown",
   "metadata": {},
   "source": [
    "### Handle events out of place - example from a miss-used photodiode\n",
    "\n",
    "The photodiode was getting light from other sources so we have events that did not correspond to the stimulus duration (2 seconds), heres one way of handling it for a recording done at the course. Basically: removes events shorter than expected."
   ]
  },
  {
   "cell_type": "code",
   "execution_count": 8,
   "metadata": {},
   "outputs": [
    {
     "data": {
      "image/png": "[encoded data removed]",
      "text/plain": [
       "<Figure size 720x288 with 1 Axes>"
      ]
     },
     "metadata": {
      "needs_background": "light"
     },
     "output_type": "display_data"
    }
   ],
   "source": [
    "# plot extracted events\n",
    "plt.figure(figsize = [10,4])\n",
    "for ichan,times in onsets.items():\n",
    "    plt.vlines(times,ichan,ichan+.1,linewidth = 0.5)\n",
    "for ichan,times in offsets.items():\n",
    "    plt.vlines(times,ichan+.2,ichan+.3,color = 'r',linewidth = 0.5)\n",
    "\n",
    "# get filtered events (overwrites...)\n",
    "event_on_off = np.vstack([onsets[0],offsets[0]])\n",
    "onsets[0] = onsets[0][np.where(np.diff(event_on_off,axis = 0).T> 1)[0]]\n",
    "offsets[0] = offsets[0][np.where(np.diff(event_on_off,axis = 0).T> 1)[0]]\n",
    "\n",
    "# Plot the filtered events\n",
    "for ichan,times in onsets.items():\n",
    "    plt.vlines(times,ichan+.1,ichan+.2,linewidth = 1,color = 'k')\n",
    "for ichan,times in offsets.items():\n",
    "    plt.vlines(times,ichan+.3,ichan+.4,color = 'r',linewidth = 1)\n",
    "plt.yticks([.05,.15,.25,.35],['onsets','filtered','offsets','filtered'])\n",
    "# Save the event times to a cvs file (this can be used by jrclust)\n",
    "with open(filename.replace('.lf.bin','.events.csv'),'w') as fd:\n",
    "    fd.write(','.join([str(o) for o in onsets[0]]))\n",
    "plt.xlabel('Time (s)');"
   ]
  }
 ],
 "metadata": {
  "kernelspec": {
   "display_name": "Python 3",
   "language": "python",
   "name": "python3"
  },
  "language_info": {
   "codemirror_mode": {
    "name": "ipython",
    "version": 3
   },
   "file_extension": ".py",
   "mimetype": "text/x-python",
   "name": "python",
   "nbconvert_exporter": "python",
   "pygments_lexer": "ipython3",
   "version": "3.7.3"
  }
 },
 "nbformat": 4,
 "nbformat_minor": 2
}
