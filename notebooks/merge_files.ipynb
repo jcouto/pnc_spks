{
 "cells": [
  {
   "cell_type": "code",
   "execution_count": 1,
   "id": "c5f9ad23",
   "metadata": {},
   "outputs": [
    {
     "ename": "RuntimeError",
     "evalue": "module compiled against API version 0xe but this version of numpy is 0xd",
     "output_type": "error",
     "traceback": [
      "\u001b[0;31m---------------------------------------------------------------------------\u001b[0m",
      "\u001b[0;31mRuntimeError\u001b[0m                              Traceback (most recent call last)",
      "\u001b[0;31mRuntimeError\u001b[0m: module compiled against API version 0xe but this version of numpy is 0xd"
     ]
    },
    {
     "name": "stdout",
     "output_type": "stream",
     "text": [
      "['207988-1_Fmr1KO_M_4moForcmouse_121421_20212314_161252_g0/207988-1_Fmr1KO_M_4moForcmouse_121421_20212314_161252_g0_imec0/207988-1_Fmr1KO_M_4moForcmouse_121421_20212314_161252_g0_t0.imec0.ap.bin', '207988-1_Fmr1KO_M_4moVolbaseline_121421_20215514_141233_g0/207988-1_Fmr1KO_M_4moVolbaseline_121421_20215514_141233_g0_imec0/207988-1_Fmr1KO_M_4moVolbaseline_121421_20215514_141233_g0_t0.imec0.ap.bin', '207988-1_Fmr1KO_M_4moVolobj_121421_20210114_151244_g1/207988-1_Fmr1KO_M_4moVolobj_121421_20210114_151244_g1_imec0/207988-1_Fmr1KO_M_4moVolobj_121421_20210114_151244_g1_t0.imec0.ap.bin']\n"
     ]
    }
   ],
   "source": [
    "from glob import glob\n",
    "from os.path import join as pjoin\n",
    "from tqdm import tqdm\n",
    "from natsort import natsorted\n",
    "import aiofiles\n",
    "import numpy as np\n",
    "import shutil\n",
    "from pnc_spks import load_spikeglx_binary\n",
    "\n",
    "# careful with the star in the end\n",
    "folders = ['207988-1_Fmr1KO_M_4mo*']\n",
    "file_type = '.ap.bin'\n",
    "\n",
    "files = []\n",
    "for folder in folders:\n",
    "    files.extend(glob(pjoin(folder,'*','*'+file_type)))\n",
    "output_file = 'outputfiles.ap.bin'\n",
    "\n",
    "print(files)\n"
   ]
  },
  {
   "cell_type": "code",
   "execution_count": 2,
   "id": "6e1778b4",
   "metadata": {},
   "outputs": [
    {
     "name": "stderr",
     "output_type": "stream",
     "text": [
      "Done, writing metadata.: 100%|█| 27982411380/27982411380.0 [10:48<00:00, 4515699"
     ]
    }
   ],
   "source": [
    "from pnc_spks import concatenate_binary_files\n",
    "concatenate_binary_files(files,output_file)    "
   ]
  },
  {
   "cell_type": "code",
   "execution_count": null,
   "id": "dd92ac4d",
   "metadata": {},
   "outputs": [],
   "source": []
  },
  {
   "cell_type": "code",
   "execution_count": null,
   "id": "38787cdc",
   "metadata": {},
   "outputs": [],
   "source": []
  },
  {
   "cell_type": "code",
   "execution_count": null,
   "id": "a496d007",
   "metadata": {},
   "outputs": [],
   "source": []
  },
  {
   "cell_type": "code",
   "execution_count": null,
   "id": "8624a433",
   "metadata": {},
   "outputs": [],
   "source": []
  },
  {
   "cell_type": "code",
   "execution_count": null,
   "id": "996ed38b",
   "metadata": {},
   "outputs": [],
   "source": []
  }
 ],
 "metadata": {
  "kernelspec": {
   "display_name": "Python 3 (ipykernel)",
   "language": "python",
   "name": "python3"
  },
  "language_info": {
   "codemirror_mode": {
    "name": "ipython",
    "version": 3
   },
   "file_extension": ".py",
   "mimetype": "text/x-python",
   "name": "python",
   "nbconvert_exporter": "python",
   "pygments_lexer": "ipython3",
   "version": "3.9.7"
  }
 },
 "nbformat": 4,
 "nbformat_minor": 5
}
